{
 "cells": [
  {
   "cell_type": "code",
   "execution_count": 1,
   "id": "e5cfd339-6bc4-40c3-a69a-9d2577dc4b71",
   "metadata": {},
   "outputs": [],
   "source": [
    "import numpy as np"
   ]
  },
  {
   "cell_type": "markdown",
   "id": "ccd96f4f-04ac-408e-99d6-848333739e69",
   "metadata": {},
   "source": [
    "#### You can multiply two arrays if the rows of hte first have the same size as the columns of the second"
   ]
  },
  {
   "cell_type": "code",
   "execution_count": 2,
   "id": "f4543f30-5c9e-4144-b1d3-d2d489d10acf",
   "metadata": {},
   "outputs": [],
   "source": [
    "a = np.array([[ 5, 3, 2], [ 1, 4,3]])\n",
    "b = np.array([[ 7, 3], [ 2, 1], [ 3, 8]])"
   ]
  },
  {
   "cell_type": "code",
   "execution_count": 4,
   "id": "d53f1f2b-1cdd-4e24-9918-c82dc0a68539",
   "metadata": {},
   "outputs": [
    {
     "data": {
      "text/plain": [
       "array([[47, 34],\n",
       "       [24, 31]])"
      ]
     },
     "execution_count": 4,
     "metadata": {},
     "output_type": "execute_result"
    }
   ],
   "source": [
    "np.matmul(a,b)"
   ]
  }
 ],
 "metadata": {
  "kernelspec": {
   "display_name": "Python 3 (ipykernel)",
   "language": "python",
   "name": "python3"
  },
  "language_info": {
   "codemirror_mode": {
    "name": "ipython",
    "version": 3
   },
   "file_extension": ".py",
   "mimetype": "text/x-python",
   "name": "python",
   "nbconvert_exporter": "python",
   "pygments_lexer": "ipython3",
   "version": "3.9.12"
  }
 },
 "nbformat": 4,
 "nbformat_minor": 5
}
